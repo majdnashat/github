{
 "cells": [
  {
   "cell_type": "markdown",
   "id": "0c07a7e4",
   "metadata": {},
   "source": [
    "## Data Mining Lab - 01\n",
    "# Association rule mining\n"
   ]
  },
  {
   "cell_type": "markdown",
   "id": "a9dbb40b",
   "metadata": {},
   "source": [
    "### Student Info.\n",
    "* __Student Name__ : \n",
    "\n",
    "* __ID__: "
   ]
  },
  {
   "cell_type": "markdown",
   "id": "d5a2e686",
   "metadata": {},
   "source": [
    "## Related dataset files\n",
    "* \"retail_dataset1.csv\"\n",
    "* \"store_data.csv\""
   ]
  },
  {
   "cell_type": "markdown",
   "id": "4c910fa9",
   "metadata": {},
   "source": [
    "## Task-set 1"
   ]
  },
  {
   "cell_type": "markdown",
   "id": "661fe2aa",
   "metadata": {},
   "source": [
    "### Task 1\n",
    "Make sure you have the following library is installed on your machine: \"mlxtend\"\n",
    "\n",
    "Hint: !pip install mlxtend\n"
   ]
  },
  {
   "cell_type": "code",
   "execution_count": null,
   "id": "1f87aec4",
   "metadata": {},
   "outputs": [],
   "source": []
  },
  {
   "cell_type": "markdown",
   "id": "6826acc4",
   "metadata": {},
   "source": [
    "### Task 2\n",
    "Consider the following dataset\n",
    "\n",
    "dataset_market_1 = [['Milk', 'Onion', 'Nutmeg', 'Kidney Beans', 'Eggs', 'Yogurt'],\n",
    "           ['Dill', 'Onion', 'Nutmeg', 'Kidney Beans', 'Eggs', 'Yogurt'],\n",
    "           ['Milk', 'Apple', 'Kidney Beans', 'Eggs'],\n",
    "           ['Milk', 'Unicorn', 'Corn', 'Kidney Beans', 'Yogurt'],\n",
    "           ['Corn', 'Onion', 'Onion', 'Kidney Beans', 'Ice cream', 'Eggs']]\n",
    "\n",
    "Write a python program to declare the dataset.\n",
    "\n",
    "<!--\n",
    "\n",
    "-->\n"
   ]
  },
  {
   "cell_type": "code",
   "execution_count": null,
   "id": "d8f3678a",
   "metadata": {},
   "outputs": [],
   "source": []
  },
  {
   "cell_type": "markdown",
   "id": "528b7d79",
   "metadata": {},
   "source": [
    "### Task 3\n",
    "Refering to dataset_market_1, what does the third basket contain? \n",
    "\n",
    "Write a line of code to retrieve the answer.\n"
   ]
  },
  {
   "cell_type": "code",
   "execution_count": null,
   "id": "aae94d65",
   "metadata": {},
   "outputs": [],
   "source": []
  },
  {
   "cell_type": "markdown",
   "id": "99b30272",
   "metadata": {},
   "source": [
    "### Task 4\n",
    "Refering to dataset_market_1, write a code to encode the dataset.\n",
    "\n",
    "Represent the produced encoded array as a dataframe named __df_dataset_market_1__.\n",
    "\n",
    "<!--\n",
    "import pandas as pd\n",
    "from mlxtend.preprocessing import TransactionEncoder\n",
    "\n",
    "te = TransactionEncoder()\n",
    "te_ary = te.fit(dataset).transform(dataset)\n",
    "df = pd.DataFrame(te_ary, columns=te.columns_)\n",
    "-->\n"
   ]
  },
  {
   "cell_type": "code",
   "execution_count": null,
   "id": "0450f4ac",
   "metadata": {},
   "outputs": [],
   "source": []
  },
  {
   "cell_type": "markdown",
   "id": "daa08cc1",
   "metadata": {},
   "source": [
    "### Task 5\n",
    "Refering to __df_dataset_market_1__. Use the __Apriori algorithm__ to calculate the most frequent items and perform the associated-rule analysis on the given dataframe. For that, consider the following settings:\n",
    "* Set min_support = 0.8\n",
    "* use_colnames = True\n",
    "* Store the frquent items calculated in a dataframe named __frequent_itemsets_.8__ \n",
    "<!--\n",
    "from mlxtend.frequent_patterns import apriori\n",
    "\n",
    "frequent_itemsets = apriori(df, min_support=0.8, use_colnames=True)\n",
    "-->"
   ]
  },
  {
   "cell_type": "code",
   "execution_count": null,
   "id": "a7373570",
   "metadata": {},
   "outputs": [],
   "source": []
  },
  {
   "cell_type": "markdown",
   "id": "63f69925",
   "metadata": {},
   "source": [
    "### Task 6\n",
    "Re-do task 5, this time considering the following settings:\n",
    "* Set min_support = 0.4\n",
    "* use_colnames = True\n",
    "\n",
    "Store the frquent items calculated in a dataframe named __frequent_itemsets_.4__ "
   ]
  },
  {
   "cell_type": "code",
   "execution_count": null,
   "id": "4206d23f",
   "metadata": {},
   "outputs": [],
   "source": []
  },
  {
   "cell_type": "markdown",
   "id": "3be85145",
   "metadata": {},
   "source": [
    "### Task 7\n",
    "Refering to the dataframe produced in Task 6, __frequent_itemsets_.4__;  add a column to the dataframe that carries the length of the calculated frequent items.\n",
    "<!--\n",
    "frequent_itemsets = apriori(df, min_support=0.6, use_colnames=True)\n",
    "frequent_itemsets['length'] = frequent_itemsets['itemsets'].apply(lambda x: len(x))\n",
    "frequent_itemsets\n",
    "-->"
   ]
  },
  {
   "cell_type": "code",
   "execution_count": null,
   "id": "bef5e8ce",
   "metadata": {},
   "outputs": [],
   "source": []
  },
  {
   "cell_type": "markdown",
   "id": "e45281e7",
   "metadata": {},
   "source": [
    "### Task 8\n",
    "Refering to __df_dataset_market_1__. Use the __FP-Growth algorithm__ to calculate the most frequent items and perform the associated-rule analysis on the given dataframe. For that, consider the following settings:\n",
    "* Set min_support = 0.5\n",
    "* use_colnames = True\n",
    "* Store the frquent items calculated in a dataframe named __frequent_itemsets_.5__ \n",
    "<!--\n",
    "from mlxtend.frequent_patterns import fpgrowth\n",
    "fpgrowth(df, min_support=0.6, use_colnames=True)\n",
    "-->"
   ]
  },
  {
   "cell_type": "code",
   "execution_count": null,
   "id": "3a4a4c3f",
   "metadata": {},
   "outputs": [],
   "source": []
  },
  {
   "cell_type": "markdown",
   "id": "d5c78e27",
   "metadata": {},
   "source": [
    "## Task-set 2\n",
    "Analysis of file \"retail_dataset1.csv\""
   ]
  },
  {
   "cell_type": "markdown",
   "id": "ee0baf0e",
   "metadata": {},
   "source": [
    "### Task 9\n",
    "Write a code to read the csv file named \"retail_dataset1.csv\" into a dataframe.\n",
    "<!--\n",
    "import pandas as pd\n",
    "import numpy as np\n",
    "import mlxtend\n",
    "from mlxtend.frequent_patterns import apriori, association_rules\n",
    "dfs = pd.read_csv(\"retail_dataset1.csv\")\n",
    "dfs.head()\n",
    "-->"
   ]
  },
  {
   "cell_type": "code",
   "execution_count": null,
   "id": "3a970a5c",
   "metadata": {},
   "outputs": [],
   "source": []
  },
  {
   "cell_type": "markdown",
   "id": "9ca2358d",
   "metadata": {},
   "source": [
    "### Task 10\n",
    "Run the following code to convert the data in the dataframe into a proper format, similar to that in Task 2.\n",
    "<pre>\n",
    "def is_nan(x):\n",
    "    return (x != x)\n",
    "\n",
    "def process_csv_data(input_df):\n",
    "    dataset2 = []\n",
    "    for r in input_df.iterrows():\n",
    "        L = []\n",
    "        for x in r[1]:\n",
    "           if(not is_nan(x)):\n",
    "                L.append(x)\n",
    "        dataset2.append(L)\n",
    "     return dataset2\n",
    "    \n",
    "processed_dataset = process_csv_data(dfs)\n",
    "</pre>\n"
   ]
  },
  {
   "cell_type": "code",
   "execution_count": null,
   "id": "f822334c",
   "metadata": {},
   "outputs": [],
   "source": []
  },
  {
   "cell_type": "markdown",
   "id": "b77e9755",
   "metadata": {},
   "source": [
    "### Task 11\n",
    "Write a code to do the following:\n",
    "* Properly encode the processed dataset to encode the dataset produced in the previous task, name the encoded data __df_retail_dataset__.\n",
    "* Use the __Apriori algorithm__ to calculate the most frequent items in __df_retail_dataset__. For that, consider the following settings: Set min_support = 0.5, and use_colnames = True\n",
    "* Store the frquent items calculated in a dataframe named __retail_dataset__ \n"
   ]
  },
  {
   "cell_type": "code",
   "execution_count": null,
   "id": "9c98fbc4",
   "metadata": {},
   "outputs": [],
   "source": []
  },
  {
   "cell_type": "markdown",
   "id": "772b766f",
   "metadata": {},
   "source": [
    "## Task-set 3\n",
    "Analysis of file \"store_data.csv\""
   ]
  },
  {
   "cell_type": "markdown",
   "id": "5742b186",
   "metadata": {},
   "source": [
    "### Task 12\n",
    "Re-do taske-set 2, this time using the file \"store_data.csv\"\n"
   ]
  },
  {
   "cell_type": "code",
   "execution_count": null,
   "id": "3ff959c9",
   "metadata": {},
   "outputs": [],
   "source": []
  },
  {
   "cell_type": "markdown",
   "id": "93d586f1",
   "metadata": {},
   "source": [
    "### Task 13\n",
    "\n"
   ]
  },
  {
   "cell_type": "code",
   "execution_count": null,
   "id": "d65a2f27",
   "metadata": {},
   "outputs": [],
   "source": []
  },
  {
   "cell_type": "markdown",
   "id": "4545fc00",
   "metadata": {},
   "source": [
    "### Task 14\n",
    "\n"
   ]
  },
  {
   "cell_type": "code",
   "execution_count": null,
   "id": "c78569d7",
   "metadata": {},
   "outputs": [],
   "source": []
  },
  {
   "cell_type": "markdown",
   "id": "adb26f4d",
   "metadata": {},
   "source": [
    "### Task 15\n",
    "\n"
   ]
  },
  {
   "cell_type": "code",
   "execution_count": null,
   "id": "b02fbf72",
   "metadata": {},
   "outputs": [],
   "source": []
  }
 ],
 "metadata": {
  "kernelspec": {
   "display_name": "Python 3 (ipykernel)",
   "language": "python",
   "name": "python3"
  },
  "language_info": {
   "codemirror_mode": {
    "name": "ipython",
    "version": 3
   },
   "file_extension": ".py",
   "mimetype": "text/x-python",
   "name": "python",
   "nbconvert_exporter": "python",
   "pygments_lexer": "ipython3",
   "version": "3.9.12"
  }
 },
 "nbformat": 4,
 "nbformat_minor": 5
}
