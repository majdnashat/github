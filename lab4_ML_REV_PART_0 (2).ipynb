{
 "cells": [
  {
   "cell_type": "code",
   "execution_count": 1,
   "id": "69084485",
   "metadata": {},
   "outputs": [],
   "source": [
    "import pandas as pd \n",
    "import numpy as np \n",
    "import matplotlib.pyplot as plt\n",
    "from scipy import stats"
   ]
  },
  {
   "cell_type": "code",
   "execution_count": 2,
   "id": "cb4986df",
   "metadata": {},
   "outputs": [
    {
     "data": {
      "text/html": [
       "<div>\n",
       "<style scoped>\n",
       "    .dataframe tbody tr th:only-of-type {\n",
       "        vertical-align: middle;\n",
       "    }\n",
       "\n",
       "    .dataframe tbody tr th {\n",
       "        vertical-align: top;\n",
       "    }\n",
       "\n",
       "    .dataframe thead th {\n",
       "        text-align: right;\n",
       "    }\n",
       "</style>\n",
       "<table border=\"1\" class=\"dataframe\">\n",
       "  <thead>\n",
       "    <tr style=\"text-align: right;\">\n",
       "      <th></th>\n",
       "      <th>0</th>\n",
       "      <th>First Name</th>\n",
       "      <th>Last Name</th>\n",
       "      <th>Gender</th>\n",
       "      <th>Country</th>\n",
       "      <th>Age</th>\n",
       "      <th>Date</th>\n",
       "      <th>Id</th>\n",
       "    </tr>\n",
       "  </thead>\n",
       "  <tbody>\n",
       "    <tr>\n",
       "      <th>0</th>\n",
       "      <td>1</td>\n",
       "      <td>Alen</td>\n",
       "      <td>Abril</td>\n",
       "      <td>Female</td>\n",
       "      <td>United States</td>\n",
       "      <td>32</td>\n",
       "      <td>15/10/2017</td>\n",
       "      <td>1562</td>\n",
       "    </tr>\n",
       "    <tr>\n",
       "      <th>1</th>\n",
       "      <td>2</td>\n",
       "      <td>Mara</td>\n",
       "      <td>Hashimoto</td>\n",
       "      <td>Female</td>\n",
       "      <td>Great Britain</td>\n",
       "      <td>25</td>\n",
       "      <td>16/08/2016</td>\n",
       "      <td>1582</td>\n",
       "    </tr>\n",
       "    <tr>\n",
       "      <th>2</th>\n",
       "      <td>3</td>\n",
       "      <td>Philip</td>\n",
       "      <td>Gent</td>\n",
       "      <td>Male</td>\n",
       "      <td>France</td>\n",
       "      <td>36</td>\n",
       "      <td>21/05/2015</td>\n",
       "      <td>2587</td>\n",
       "    </tr>\n",
       "    <tr>\n",
       "      <th>3</th>\n",
       "      <td>4</td>\n",
       "      <td>Kathleen</td>\n",
       "      <td>Hanner</td>\n",
       "      <td>Female</td>\n",
       "      <td>United States</td>\n",
       "      <td>25</td>\n",
       "      <td>15/10/2017</td>\n",
       "      <td>3549</td>\n",
       "    </tr>\n",
       "    <tr>\n",
       "      <th>4</th>\n",
       "      <td>5</td>\n",
       "      <td>mary</td>\n",
       "      <td>Magwood</td>\n",
       "      <td>Female</td>\n",
       "      <td>United States</td>\n",
       "      <td>58</td>\n",
       "      <td>16/08/2016</td>\n",
       "      <td>2468</td>\n",
       "    </tr>\n",
       "    <tr>\n",
       "      <th>5</th>\n",
       "      <td>6</td>\n",
       "      <td>Gaston</td>\n",
       "      <td>Brumm</td>\n",
       "      <td>Male</td>\n",
       "      <td>United States</td>\n",
       "      <td>24</td>\n",
       "      <td>21/05/2015</td>\n",
       "      <td>2554</td>\n",
       "    </tr>\n",
       "    <tr>\n",
       "      <th>6</th>\n",
       "      <td>7</td>\n",
       "      <td>Etta</td>\n",
       "      <td>Hurn</td>\n",
       "      <td>Female</td>\n",
       "      <td>Great Britain</td>\n",
       "      <td>56</td>\n",
       "      <td>15/10/2017</td>\n",
       "      <td>3598</td>\n",
       "    </tr>\n",
       "    <tr>\n",
       "      <th>7</th>\n",
       "      <td>8</td>\n",
       "      <td>Earlean</td>\n",
       "      <td>Melgar</td>\n",
       "      <td>Female</td>\n",
       "      <td>United States</td>\n",
       "      <td>27</td>\n",
       "      <td>16/08/2016</td>\n",
       "      <td>2456</td>\n",
       "    </tr>\n",
       "    <tr>\n",
       "      <th>8</th>\n",
       "      <td>9</td>\n",
       "      <td>Salee</td>\n",
       "      <td>Weiland</td>\n",
       "      <td>Female</td>\n",
       "      <td>United States</td>\n",
       "      <td>40</td>\n",
       "      <td>21/05/2015</td>\n",
       "      <td>6548</td>\n",
       "    </tr>\n",
       "  </tbody>\n",
       "</table>\n",
       "</div>"
      ],
      "text/plain": [
       "   0 First Name  Last Name  Gender        Country  Age        Date    Id\n",
       "0  1       Alen      Abril  Female  United States   32  15/10/2017  1562\n",
       "1  2       Mara  Hashimoto  Female  Great Britain   25  16/08/2016  1582\n",
       "2  3     Philip       Gent    Male         France   36  21/05/2015  2587\n",
       "3  4   Kathleen     Hanner  Female  United States   25  15/10/2017  3549\n",
       "4  5       mary    Magwood  Female  United States   58  16/08/2016  2468\n",
       "5  6     Gaston      Brumm    Male  United States   24  21/05/2015  2554\n",
       "6  7       Etta       Hurn  Female  Great Britain   56  15/10/2017  3598\n",
       "7  8    Earlean     Melgar  Female  United States   27  16/08/2016  2456\n",
       "8  9      Salee    Weiland  Female  United States   40  21/05/2015  6548"
      ]
     },
     "execution_count": 2,
     "metadata": {},
     "output_type": "execute_result"
    }
   ],
   "source": [
    "data=pd.read_excel(\"file_example_XLS.xls\")\n",
    "data"
   ]
  },
  {
   "cell_type": "code",
   "execution_count": 3,
   "id": "e2f49a37",
   "metadata": {},
   "outputs": [
    {
     "data": {
      "text/html": [
       "<div>\n",
       "<style scoped>\n",
       "    .dataframe tbody tr th:only-of-type {\n",
       "        vertical-align: middle;\n",
       "    }\n",
       "\n",
       "    .dataframe tbody tr th {\n",
       "        vertical-align: top;\n",
       "    }\n",
       "\n",
       "    .dataframe thead th {\n",
       "        text-align: right;\n",
       "    }\n",
       "</style>\n",
       "<table border=\"1\" class=\"dataframe\">\n",
       "  <thead>\n",
       "    <tr style=\"text-align: right;\">\n",
       "      <th></th>\n",
       "      <th>0</th>\n",
       "      <th>First Name</th>\n",
       "      <th>Last Name</th>\n",
       "      <th>Gender</th>\n",
       "      <th>Country</th>\n",
       "      <th>Age</th>\n",
       "      <th>Date</th>\n",
       "      <th>Id</th>\n",
       "      <th>Salary</th>\n",
       "    </tr>\n",
       "  </thead>\n",
       "  <tbody>\n",
       "    <tr>\n",
       "      <th>0</th>\n",
       "      <td>1</td>\n",
       "      <td>Alen</td>\n",
       "      <td>Abril</td>\n",
       "      <td>Female</td>\n",
       "      <td>United States</td>\n",
       "      <td>32</td>\n",
       "      <td>15/10/2017</td>\n",
       "      <td>1562</td>\n",
       "      <td>2000</td>\n",
       "    </tr>\n",
       "    <tr>\n",
       "      <th>1</th>\n",
       "      <td>2</td>\n",
       "      <td>Mara</td>\n",
       "      <td>Hashimoto</td>\n",
       "      <td>Female</td>\n",
       "      <td>Great Britain</td>\n",
       "      <td>25</td>\n",
       "      <td>16/08/2016</td>\n",
       "      <td>1582</td>\n",
       "      <td>2500</td>\n",
       "    </tr>\n",
       "    <tr>\n",
       "      <th>2</th>\n",
       "      <td>3</td>\n",
       "      <td>Philip</td>\n",
       "      <td>Gent</td>\n",
       "      <td>Male</td>\n",
       "      <td>France</td>\n",
       "      <td>36</td>\n",
       "      <td>21/05/2015</td>\n",
       "      <td>2587</td>\n",
       "      <td>3678</td>\n",
       "    </tr>\n",
       "    <tr>\n",
       "      <th>3</th>\n",
       "      <td>4</td>\n",
       "      <td>Kathleen</td>\n",
       "      <td>Hanner</td>\n",
       "      <td>Female</td>\n",
       "      <td>United States</td>\n",
       "      <td>25</td>\n",
       "      <td>15/10/2017</td>\n",
       "      <td>3549</td>\n",
       "      <td>1800</td>\n",
       "    </tr>\n",
       "    <tr>\n",
       "      <th>4</th>\n",
       "      <td>5</td>\n",
       "      <td>mary</td>\n",
       "      <td>Magwood</td>\n",
       "      <td>Female</td>\n",
       "      <td>United States</td>\n",
       "      <td>58</td>\n",
       "      <td>16/08/2016</td>\n",
       "      <td>2468</td>\n",
       "      <td>3000</td>\n",
       "    </tr>\n",
       "    <tr>\n",
       "      <th>5</th>\n",
       "      <td>6</td>\n",
       "      <td>Gaston</td>\n",
       "      <td>Brumm</td>\n",
       "      <td>Male</td>\n",
       "      <td>United States</td>\n",
       "      <td>24</td>\n",
       "      <td>21/05/2015</td>\n",
       "      <td>2554</td>\n",
       "      <td>3766</td>\n",
       "    </tr>\n",
       "    <tr>\n",
       "      <th>6</th>\n",
       "      <td>7</td>\n",
       "      <td>Etta</td>\n",
       "      <td>Hurn</td>\n",
       "      <td>Female</td>\n",
       "      <td>Great Britain</td>\n",
       "      <td>56</td>\n",
       "      <td>15/10/2017</td>\n",
       "      <td>3598</td>\n",
       "      <td>2999</td>\n",
       "    </tr>\n",
       "    <tr>\n",
       "      <th>7</th>\n",
       "      <td>8</td>\n",
       "      <td>Earlean</td>\n",
       "      <td>Melgar</td>\n",
       "      <td>Female</td>\n",
       "      <td>United States</td>\n",
       "      <td>27</td>\n",
       "      <td>16/08/2016</td>\n",
       "      <td>2456</td>\n",
       "      <td>1987</td>\n",
       "    </tr>\n",
       "    <tr>\n",
       "      <th>8</th>\n",
       "      <td>9</td>\n",
       "      <td>Salee</td>\n",
       "      <td>Weiland</td>\n",
       "      <td>Female</td>\n",
       "      <td>United States</td>\n",
       "      <td>40</td>\n",
       "      <td>21/05/2015</td>\n",
       "      <td>6548</td>\n",
       "      <td>2876</td>\n",
       "    </tr>\n",
       "  </tbody>\n",
       "</table>\n",
       "</div>"
      ],
      "text/plain": [
       "   0 First Name  Last Name  Gender        Country  Age        Date    Id  \\\n",
       "0  1       Alen      Abril  Female  United States   32  15/10/2017  1562   \n",
       "1  2       Mara  Hashimoto  Female  Great Britain   25  16/08/2016  1582   \n",
       "2  3     Philip       Gent    Male         France   36  21/05/2015  2587   \n",
       "3  4   Kathleen     Hanner  Female  United States   25  15/10/2017  3549   \n",
       "4  5       mary    Magwood  Female  United States   58  16/08/2016  2468   \n",
       "5  6     Gaston      Brumm    Male  United States   24  21/05/2015  2554   \n",
       "6  7       Etta       Hurn  Female  Great Britain   56  15/10/2017  3598   \n",
       "7  8    Earlean     Melgar  Female  United States   27  16/08/2016  2456   \n",
       "8  9      Salee    Weiland  Female  United States   40  21/05/2015  6548   \n",
       "\n",
       "   Salary  \n",
       "0    2000  \n",
       "1    2500  \n",
       "2    3678  \n",
       "3    1800  \n",
       "4    3000  \n",
       "5    3766  \n",
       "6    2999  \n",
       "7    1987  \n",
       "8    2876  "
      ]
     },
     "execution_count": 3,
     "metadata": {},
     "output_type": "execute_result"
    }
   ],
   "source": [
    "Salary=[2000,2500,3678,1800,3000,3766,2999,1987,2876]\n",
    "data['Salary']=Salary\n",
    "data"
   ]
  },
  {
   "cell_type": "code",
   "execution_count": 4,
   "id": "c7352be8",
   "metadata": {},
   "outputs": [
    {
     "data": {
      "text/plain": [
       "2876.0"
      ]
     },
     "execution_count": 4,
     "metadata": {},
     "output_type": "execute_result"
    }
   ],
   "source": [
    "np.median(Salary)"
   ]
  },
  {
   "cell_type": "code",
   "execution_count": 5,
   "id": "4bcb52a2",
   "metadata": {},
   "outputs": [
    {
     "data": {
      "text/plain": [
       "678.3298116206697"
      ]
     },
     "execution_count": 5,
     "metadata": {},
     "output_type": "execute_result"
    }
   ],
   "source": [
    "np.std(Salary)"
   ]
  },
  {
   "cell_type": "code",
   "execution_count": 6,
   "id": "cd9f2764",
   "metadata": {},
   "outputs": [
    {
     "data": {
      "text/plain": [
       "460131.3333333333"
      ]
     },
     "execution_count": 6,
     "metadata": {},
     "output_type": "execute_result"
    }
   ],
   "source": [
    "np.var(Salary)"
   ]
  },
  {
   "cell_type": "code",
   "execution_count": 7,
   "id": "36104687",
   "metadata": {},
   "outputs": [
    {
     "data": {
      "text/plain": [
       "1811.22"
      ]
     },
     "execution_count": 7,
     "metadata": {},
     "output_type": "execute_result"
    }
   ],
   "source": [
    "x = np.percentile(Salary, 0.75)\n",
    "x"
   ]
  },
  {
   "cell_type": "code",
   "execution_count": 12,
   "id": "de2a7c89",
   "metadata": {},
   "outputs": [
    {
     "data": {
      "text/plain": [
       "array([323.54621255, 432.95604128, 405.13676244, 310.33626766,\n",
       "       484.71808141, 420.06399186, 232.53073577, 478.285164  ,\n",
       "       495.34692203, 232.70934174, 490.96644536, 224.86286316,\n",
       "       444.57504129, 328.69076126, 427.54325728, 431.90350732,\n",
       "       268.55490866, 272.31185843, 246.66700984, 384.73241764,\n",
       "       385.10928189, 354.55960782, 429.98598271, 293.0414577 ,\n",
       "       349.16537809, 373.36808723, 497.37786917, 317.51142596,\n",
       "       238.58863409, 235.11307232])"
      ]
     },
     "execution_count": 12,
     "metadata": {},
     "output_type": "execute_result"
    }
   ],
   "source": [
    "x= np.random.uniform(200,500, 30)\n",
    "x"
   ]
  },
  {
   "cell_type": "markdown",
   "id": "8be8c83d",
   "metadata": {},
   "source": [
    "# random uniform():  function aids us in obtaining random samples from a uniform data distribution."
   ]
  },
  {
   "cell_type": "code",
   "execution_count": 8,
   "id": "3410c469",
   "metadata": {},
   "outputs": [
    {
     "data": {
      "text/plain": [
       "array([4.75673865, 2.88651417, 0.23116161, 0.32607437, 0.91812906,\n",
       "       3.38710955, 1.99450168, 4.54273865, 2.15790137, 2.89950299,\n",
       "       1.48503844, 4.36022368, 2.89376158, 2.23946367, 4.70554654,\n",
       "       3.76286269, 0.18059514, 2.9748733 , 2.58575899, 4.08124905,\n",
       "       3.7545792 , 2.94664197, 0.81145721, 0.01756262, 4.01719801,\n",
       "       3.25544247, 3.74286167, 0.99888684, 1.11346363, 0.9522048 ,\n",
       "       1.30160505, 2.21463812, 1.61098115, 0.22138228, 0.48651629,\n",
       "       0.39307824, 0.47498616, 4.33495846, 4.92906034, 4.46708365,\n",
       "       2.38579707, 2.45253001, 0.31923327, 0.97260209, 1.2884751 ,\n",
       "       2.40839753, 3.73286839, 3.59631256, 2.41337627, 4.8668973 ,\n",
       "       2.46658669, 4.14946574, 2.1848634 , 1.12744489, 0.26776481,\n",
       "       2.74734725, 4.86297999, 0.33728909, 1.1923384 , 1.15679862,\n",
       "       2.46756492, 4.27096081, 3.24663098, 3.70082602, 1.21134802,\n",
       "       4.7325059 , 1.12332476, 0.018256  , 4.29515098, 1.01534688,\n",
       "       3.23215724, 1.38920384, 0.42929673, 2.31457318, 0.53565614,\n",
       "       0.75424407, 1.80408044, 3.6516273 , 0.21080546, 0.14484087,\n",
       "       1.84703921, 4.30977124, 3.23550625, 0.12216284, 3.31453488,\n",
       "       3.52774728, 0.39347752, 1.14186017, 0.26888987, 2.43215023,\n",
       "       4.9918865 , 4.32526772, 4.7527384 , 4.79401159, 0.02153947,\n",
       "       4.33383946, 2.95254144, 2.0829002 , 0.25782356, 3.68013191,\n",
       "       0.99931126, 4.79158262, 0.29240897, 1.79980555, 1.99809247,\n",
       "       2.58364329, 0.57763314, 2.77067571, 1.9406015 , 1.55102266,\n",
       "       3.15492341, 1.09906938, 1.3393318 , 2.70947504, 2.97256414,\n",
       "       3.34793852, 4.4930637 , 1.72419446, 2.90775188, 4.04559856,\n",
       "       2.8731938 , 4.881026  , 4.11724885, 3.56818405, 0.63186937,\n",
       "       4.77886824, 4.81910925, 4.8229701 , 4.39050053, 2.61378951,\n",
       "       2.09649442, 1.98356988, 3.3745192 , 3.61764227, 2.75216006,\n",
       "       0.79160576, 3.91748966, 1.87071244, 0.1347423 , 1.34016797,\n",
       "       1.6205883 , 2.49743234, 1.02159813, 4.33734356, 1.98046977,\n",
       "       1.01165398, 4.40529508, 2.93276105, 0.51936524, 3.12971041,\n",
       "       3.21451589, 1.59501945, 1.28823136, 2.33509915, 3.61001402,\n",
       "       4.35074385, 4.62456434, 4.74626948, 1.99603084, 0.24235417,\n",
       "       3.36633479, 4.02520541, 3.07518025, 3.66528   , 0.09868925,\n",
       "       3.13976562, 0.09845066, 3.91114005, 2.19058768, 0.66943953,\n",
       "       3.75204124, 0.3845101 , 2.04649754, 4.00859152, 4.44695049,\n",
       "       0.87556773, 1.36701367, 3.37961812, 0.27056735, 4.14984422,\n",
       "       0.37961765, 0.86407924, 0.15395515, 2.81049687, 4.29566956,\n",
       "       2.19419304, 2.08450246, 2.42422625, 0.29811371, 1.3641269 ,\n",
       "       2.8772157 , 1.2882647 , 0.57946459, 2.64135398, 0.17338157,\n",
       "       2.96671877, 4.15305616, 2.08839271, 3.67088596, 4.57929186,\n",
       "       0.78531206, 4.24806865, 0.52778553, 0.57378294, 3.59576451,\n",
       "       0.9476947 , 4.7121617 , 4.06725053, 1.34838771, 2.19878243,\n",
       "       3.25851717, 4.65696362, 3.3352052 , 3.55123032, 4.23368388,\n",
       "       1.08718822, 2.1642971 , 3.0173945 , 4.8370786 , 3.06436616,\n",
       "       2.29339376, 4.9002912 , 4.63001132, 4.62342387, 3.69899777,\n",
       "       1.85177532, 4.43264311, 2.87393274, 2.35026304, 2.01535588,\n",
       "       4.13067438, 1.32137435, 2.210008  , 0.09299962, 4.49222542,\n",
       "       0.18418356, 0.48691151, 2.57260881, 2.42848656, 4.80152423,\n",
       "       2.56344642, 3.50050527, 3.9498986 , 1.21544762, 1.03718076,\n",
       "       3.84706126, 0.64729677, 4.48758112, 1.53380945, 0.82895805])"
      ]
     },
     "execution_count": 8,
     "metadata": {},
     "output_type": "execute_result"
    }
   ],
   "source": [
    "x = np.random.uniform(0.0, 5.0, 250)\n",
    "x"
   ]
  },
  {
   "cell_type": "code",
   "execution_count": 114,
   "id": "bb220a8a",
   "metadata": {},
   "outputs": [
    {
     "data": {
      "image/png": "[encoded data removed]",
      "text/plain": [
       "<Figure size 640x480 with 1 Axes>"
      ]
     },
     "metadata": {},
     "output_type": "display_data"
    }
   ],
   "source": [
    "plt.hist(x,5)\n",
    "plt.show()"
   ]
  },
  {
   "cell_type": "code",
   "execution_count": 118,
   "id": "43a41109",
   "metadata": {},
   "outputs": [
    {
     "data": {
      "text/plain": [
       "array([ 11.22747514,  -2.66671919,   7.35519698,   3.0009256 ,\n",
       "         4.27001751,   4.95841547,   5.1532288 ,  -9.45903352,\n",
       "        -1.98688045,  -3.43542338,   3.74504128,   1.00962996,\n",
       "        -0.24407585,  -5.30506567,   2.41512989,  -0.62279218,\n",
       "        11.22876738,   5.81667992,  -2.92378613,   1.02162692,\n",
       "         2.6617992 ,  -2.4689724 ,   1.96302472,  -4.48021352,\n",
       "        -1.62792826,  -0.30092876,   0.51441332,   0.26357691,\n",
       "         2.58059703,   4.284617  , -13.41305979,   5.79709706,\n",
       "         1.26334137,  -9.81175197,   0.97296774,   6.29593349,\n",
       "         0.18332137,  -4.46898257,   2.77580887,  -9.8535196 ,\n",
       "         2.2874903 ,   7.71959844,  -6.45332283,   1.66832206,\n",
       "         0.978103  ,  -1.98480636,  -0.64597269,   7.15221398,\n",
       "         7.25387882,  -4.21242483,   4.0123763 ,   1.54296682,\n",
       "         7.07937122,   1.51412056,  -0.99322199,   1.51393938,\n",
       "         8.78743512,  -0.23815658,   3.98399668,  -4.76776631,\n",
       "        12.16599346,   0.57942978,  -0.89498769,  -0.3043391 ,\n",
       "        -2.74172749,  -1.76217455,   3.246648  ,   3.73650183,\n",
       "        -1.40805066,   5.92271874,   6.14636703,   3.53613203,\n",
       "         3.90092104,   3.44960754,   6.85957522,   3.75246802,\n",
       "         4.95631293,   5.83599026,  -4.23443326,   0.34659134,\n",
       "         1.47452156,   2.61171386,  -0.02286944,  -9.8735891 ,\n",
       "        -4.9899834 ,  -3.98467724,  10.40789855,   7.27640197,\n",
       "        -0.38489024,   0.30073827,   0.28225863,   8.77491118,\n",
       "         9.08131013,   9.6143876 ,   4.58108874,  -5.40754569,\n",
       "        -0.37714344,   3.63814489,   2.13433661,   6.36202564])"
      ]
     },
     "execution_count": 118,
     "metadata": {},
     "output_type": "execute_result"
    }
   ],
   "source": [
    "x = np.random.normal(1.0, 5.0, 100)\n",
    "x"
   ]
  },
  {
   "cell_type": "code",
   "execution_count": 108,
   "id": "33a6af71",
   "metadata": {},
   "outputs": [
    {
     "data": {
      "image/png": "[encoded data removed]",
      "text/plain": [
       "<Figure size 640x480 with 1 Axes>"
      ]
     },
     "metadata": {},
     "output_type": "display_data"
    }
   ],
   "source": [
    "plt.hist(x, 100)\n",
    "plt.show()"
   ]
  },
  {
   "cell_type": "code",
   "execution_count": 109,
   "id": "a7c21afe",
   "metadata": {},
   "outputs": [
    {
     "data": {
      "image/png": "[encoded data removed]",
      "text/plain": [
       "<Figure size 640x480 with 1 Axes>"
      ]
     },
     "metadata": {},
     "output_type": "display_data"
    }
   ],
   "source": [
    "x = [5,7,8,7,2,17,2,9,4,11,12,9,6]\n",
    "y = [99,86,87,88,111,86,103,87,94,78,77,85,86]\n",
    "plt.scatter(x,y)\n",
    "plt.show()"
   ]
  },
  {
   "cell_type": "code",
   "execution_count": 110,
   "id": "5f56e53b",
   "metadata": {},
   "outputs": [
    {
     "data": {
      "text/plain": [
       "<matplotlib.collections.PathCollection at 0x2490db258b0>"
      ]
     },
     "execution_count": 110,
     "metadata": {},
     "output_type": "execute_result"
    },
    {
     "data": {
      "image/png": "[encoded data removed]",
      "text/plain": [
       "<Figure size 640x480 with 1 Axes>"
      ]
     },
     "metadata": {},
     "output_type": "display_data"
    }
   ],
   "source": [
    "x=np.random.uniform(5.0, 1.0, 1000)\n",
    "y= np.random.uniform(10.0, 2.0, 1000)\n",
    "plt.scatter(x,y)"
   ]
  },
  {
   "cell_type": "raw",
   "id": "c39e4b45",
   "metadata": {},
   "source": [
    "import sklearn\n",
    "print('sklearn: %s' % sklearn.__version__)"
   ]
  },
  {
   "cell_type": "code",
   "execution_count": null,
   "id": "c749536d",
   "metadata": {},
   "outputs": [],
   "source": []
  }
 ],
 "metadata": {
  "kernelspec": {
   "display_name": "Python 3 (ipykernel)",
   "language": "python",
   "name": "python3"
  },
  "language_info": {
   "codemirror_mode": {
    "name": "ipython",
    "version": 3
   },
   "file_extension": ".py",
   "mimetype": "text/x-python",
   "name": "python",
   "nbconvert_exporter": "python",
   "pygments_lexer": "ipython3",
   "version": "3.9.13"
  }
 },
 "nbformat": 4,
 "nbformat_minor": 5
}
