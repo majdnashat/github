{
 "cells": [
  {
   "cell_type": "markdown",
   "id": "4c3c5d36",
   "metadata": {},
   "source": [
    "# Linear Regression and Polynomial Regression using Sklearn"
   ]
  },
  {
   "cell_type": "markdown",
   "id": "3981315a",
   "metadata": {},
   "source": [
    "# 1.Importing Lib"
   ]
  },
  {
   "cell_type": "code",
   "execution_count": 219,
   "id": "1bfe529c",
   "metadata": {},
   "outputs": [],
   "source": [
    "import pandas as pd\n",
    "import numpy as np\n",
    "import seaborn as sns\n",
    "import matplotlib.pyplot as plt"
   ]
  },
  {
   "cell_type": "markdown",
   "id": "3129cd73",
   "metadata": {},
   "source": [
    "# 2.Reading Data "
   ]
  },
  {
   "cell_type": "code",
   "execution_count": 220,
   "id": "0469fc0c",
   "metadata": {},
   "outputs": [],
   "source": [
    "xy = pd.read_csv('xy_data.csv')"
   ]
  },
  {
   "cell_type": "code",
   "execution_count": 221,
   "id": "22559057",
   "metadata": {},
   "outputs": [
    {
     "data": {
      "text/html": [
       "<div>\n",
       "<style scoped>\n",
       "    .dataframe tbody tr th:only-of-type {\n",
       "        vertical-align: middle;\n",
       "    }\n",
       "\n",
       "    .dataframe tbody tr th {\n",
       "        vertical-align: top;\n",
       "    }\n",
       "\n",
       "    .dataframe thead th {\n",
       "        text-align: right;\n",
       "    }\n",
       "</style>\n",
       "<table border=\"1\" class=\"dataframe\">\n",
       "  <thead>\n",
       "    <tr style=\"text-align: right;\">\n",
       "      <th></th>\n",
       "      <th>x-vals</th>\n",
       "      <th>y-vals1</th>\n",
       "      <th>y-vals2</th>\n",
       "    </tr>\n",
       "  </thead>\n",
       "  <tbody>\n",
       "    <tr>\n",
       "      <th>0</th>\n",
       "      <td>8</td>\n",
       "      <td>5.9</td>\n",
       "      <td>13.70</td>\n",
       "    </tr>\n",
       "    <tr>\n",
       "      <th>1</th>\n",
       "      <td>23</td>\n",
       "      <td>10.7</td>\n",
       "      <td>32.55</td>\n",
       "    </tr>\n",
       "    <tr>\n",
       "      <th>2</th>\n",
       "      <td>32</td>\n",
       "      <td>13.1</td>\n",
       "      <td>44.73</td>\n",
       "    </tr>\n",
       "    <tr>\n",
       "      <th>3</th>\n",
       "      <td>21</td>\n",
       "      <td>9.4</td>\n",
       "      <td>30.51</td>\n",
       "    </tr>\n",
       "    <tr>\n",
       "      <th>4</th>\n",
       "      <td>22</td>\n",
       "      <td>9.5</td>\n",
       "      <td>31.81</td>\n",
       "    </tr>\n",
       "  </tbody>\n",
       "</table>\n",
       "</div>"
      ],
      "text/plain": [
       "   x-vals  y-vals1  y-vals2\n",
       "0       8      5.9    13.70\n",
       "1      23     10.7    32.55\n",
       "2      32     13.1    44.73\n",
       "3      21      9.4    30.51\n",
       "4      22      9.5    31.81"
      ]
     },
     "execution_count": 221,
     "metadata": {},
     "output_type": "execute_result"
    }
   ],
   "source": [
    "xy.head()"
   ]
  },
  {
   "cell_type": "code",
   "execution_count": 222,
   "id": "d6d90a91",
   "metadata": {},
   "outputs": [],
   "source": [
    "x= xy['x-vals'].values.reshape(-1,1)\n",
    "y1 = xy['y-vals1'].values.reshape(-1,1)\n",
    "y2 = xy['y-vals2'].values.reshape(-1,1)"
   ]
  },
  {
   "cell_type": "code",
   "execution_count": 223,
   "id": "9c144e82",
   "metadata": {},
   "outputs": [
    {
     "data": {
      "text/plain": [
       "(29, 1)"
      ]
     },
     "execution_count": 223,
     "metadata": {},
     "output_type": "execute_result"
    }
   ],
   "source": [
    "xy['x-vals'].values.reshape(-1,1).shape"
   ]
  },
  {
   "cell_type": "code",
   "execution_count": 224,
   "id": "61158583",
   "metadata": {},
   "outputs": [
    {
     "data": {
      "text/plain": [
       "(29,)"
      ]
     },
     "execution_count": 224,
     "metadata": {},
     "output_type": "execute_result"
    }
   ],
   "source": [
    "xy['x-vals'].values.shape"
   ]
  },
  {
   "cell_type": "markdown",
   "id": "9441ba0f",
   "metadata": {},
   "source": [
    "# 3.Data Visualization "
   ]
  },
  {
   "cell_type": "code",
   "execution_count": 225,
   "id": "2c985f6b",
   "metadata": {},
   "outputs": [
    {
     "data": {
      "text/plain": [
       "<function matplotlib.pyplot.show(close=None, block=None)>"
      ]
     },
     "execution_count": 225,
     "metadata": {},
     "output_type": "execute_result"
    },
    {
     "data": {
      "image/png": "[encoded data removed]",
      "text/plain": [
       "<Figure size 640x480 with 1 Axes>"
      ]
     },
     "metadata": {},
     "output_type": "display_data"
    }
   ],
   "source": [
    "plt.scatter(x,y1)\n",
    "plt.xlabel('x')\n",
    "plt.ylabel('y1')\n",
    "plt.title('Fig1')\n",
    "plt.show"
   ]
  },
  {
   "cell_type": "markdown",
   "id": "f607a9cd",
   "metadata": {},
   "source": [
    "# 4.Model Training"
   ]
  },
  {
   "cell_type": "code",
   "execution_count": 226,
   "id": "c5483dec",
   "metadata": {},
   "outputs": [],
   "source": [
    "from sklearn.linear_model import LinearRegression "
   ]
  },
  {
   "cell_type": "code",
   "execution_count": 227,
   "id": "74a7d7ed",
   "metadata": {},
   "outputs": [],
   "source": [
    "LR= LinearRegression()"
   ]
  },
  {
   "cell_type": "code",
   "execution_count": 228,
   "id": "a04f73d8",
   "metadata": {},
   "outputs": [
    {
     "data": {
      "text/plain": [
       "(array([3.14093689]), array([[0.30110286]]))"
      ]
     },
     "execution_count": 228,
     "metadata": {},
     "output_type": "execute_result"
    }
   ],
   "source": [
    "LR.fit(x,y1)\n",
    "LR.intercept_, LR.coef_"
   ]
  },
  {
   "cell_type": "code",
   "execution_count": 229,
   "id": "40359ce2",
   "metadata": {},
   "outputs": [],
   "source": [
    "y_predict= LR.predict(x)"
   ]
  },
  {
   "cell_type": "code",
   "execution_count": 230,
   "id": "d17845dc",
   "metadata": {},
   "outputs": [
    {
     "data": {
      "text/plain": [
       "array([[ 8],\n",
       "       [23],\n",
       "       [32],\n",
       "       [21],\n",
       "       [22]], dtype=int64)"
      ]
     },
     "execution_count": 230,
     "metadata": {},
     "output_type": "execute_result"
    }
   ],
   "source": [
    "x[:5]"
   ]
  },
  {
   "cell_type": "code",
   "execution_count": 231,
   "id": "16c688bf",
   "metadata": {},
   "outputs": [
    {
     "data": {
      "text/plain": [
       "array([[ 5.54975977],\n",
       "       [10.06630269],\n",
       "       [12.77622843],\n",
       "       [ 9.46409696],\n",
       "       [ 9.76519983]])"
      ]
     },
     "execution_count": 231,
     "metadata": {},
     "output_type": "execute_result"
    }
   ],
   "source": [
    "LR.predict(x[:5])"
   ]
  },
  {
   "cell_type": "code",
   "execution_count": 232,
   "id": "7b53719f",
   "metadata": {},
   "outputs": [
    {
     "data": {
      "text/plain": [
       "array([[ 5.9],\n",
       "       [10.7],\n",
       "       [13.1],\n",
       "       [ 9.4],\n",
       "       [ 9.5]])"
      ]
     },
     "execution_count": 232,
     "metadata": {},
     "output_type": "execute_result"
    }
   ],
   "source": [
    "y1[:5]"
   ]
  },
  {
   "cell_type": "code",
   "execution_count": 233,
   "id": "f20a6d33",
   "metadata": {},
   "outputs": [
    {
     "data": {
      "text/plain": [
       "<function matplotlib.pyplot.show(close=None, block=None)>"
      ]
     },
     "execution_count": 233,
     "metadata": {},
     "output_type": "execute_result"
    },
    {
     "data": {
      "image/png": "[encoded data removed]",
      "text/plain": [
       "<Figure size 640x480 with 1 Axes>"
      ]
     },
     "metadata": {},
     "output_type": "display_data"
    }
   ],
   "source": [
    "plt.scatter(x,y1,c='r')\n",
    "plt.plot(x,y_predict)\n",
    "plt.xlabel('x')\n",
    "plt.ylabel('y_predict')\n",
    "plt.savefig('fig.png')\n",
    "plt.show"
   ]
  },
  {
   "cell_type": "markdown",
   "id": "8cc5f484",
   "metadata": {},
   "source": [
    "# Model Evalution "
   ]
  },
  {
   "cell_type": "code",
   "execution_count": 234,
   "id": "019dc438",
   "metadata": {},
   "outputs": [],
   "source": [
    "import sklearn.metrics as mc"
   ]
  },
  {
   "cell_type": "code",
   "execution_count": 235,
   "id": "d4dddf18",
   "metadata": {},
   "outputs": [
    {
     "data": {
      "text/plain": [
       "0.45366327537257795"
      ]
     },
     "execution_count": 235,
     "metadata": {},
     "output_type": "execute_result"
    }
   ],
   "source": [
    "mc.mean_absolute_error(y1,y_predict)"
   ]
  },
  {
   "cell_type": "code",
   "execution_count": 236,
   "id": "18072275",
   "metadata": {},
   "outputs": [
    {
     "data": {
      "text/plain": [
       "0.281669804429517"
      ]
     },
     "execution_count": 236,
     "metadata": {},
     "output_type": "execute_result"
    }
   ],
   "source": [
    "mc.mean_squared_error(y1,y_predict)"
   ]
  },
  {
   "cell_type": "code",
   "execution_count": 237,
   "id": "197cefb5",
   "metadata": {},
   "outputs": [
    {
     "data": {
      "text/plain": [
       "0.9429394595634258"
      ]
     },
     "execution_count": 237,
     "metadata": {},
     "output_type": "execute_result"
    }
   ],
   "source": [
    "mc.r2_score(y_predict,y1)"
   ]
  },
  {
   "cell_type": "markdown",
   "id": "73a9de3b",
   "metadata": {},
   "source": [
    "# extra "
   ]
  },
  {
   "cell_type": "code",
   "execution_count": 1,
   "id": "d8cf9eed",
   "metadata": {},
   "outputs": [],
   "source": [
    "from scipy import stats"
   ]
  },
  {
   "cell_type": "code",
   "execution_count": 2,
   "id": "42f0be7e",
   "metadata": {},
   "outputs": [],
   "source": [
    "x1= [5,7,8,7,2,17,2,9,4,11,12,9,6]\n",
    "y1= [99,86,87,88,111,86,103,87,94,78,77,85,86]"
   ]
  },
  {
   "cell_type": "code",
   "execution_count": 3,
   "id": "b74e842f",
   "metadata": {},
   "outputs": [],
   "source": [
    "slope, intercept, r, p, std_err= stats.linregress(x1,y1)"
   ]
  },
  {
   "cell_type": "code",
   "execution_count": 6,
   "id": "c8621f1e",
   "metadata": {},
   "outputs": [
    {
     "name": "stdout",
     "output_type": "stream",
     "text": [
      "-0.758591524376155\n"
     ]
    }
   ],
   "source": [
    "print(r)"
   ]
  },
  {
   "cell_type": "code",
   "execution_count": 7,
   "id": "3d4303fa",
   "metadata": {},
   "outputs": [
    {
     "name": "stdout",
     "output_type": "stream",
     "text": [
      "-1.7512877115526118\n"
     ]
    }
   ],
   "source": [
    "print(slope)"
   ]
  },
  {
   "cell_type": "markdown",
   "id": "b5afeb98",
   "metadata": {},
   "source": [
    "# Polynomial Regression"
   ]
  },
  {
   "cell_type": "code",
   "execution_count": 243,
   "id": "4f9ed296",
   "metadata": {},
   "outputs": [
    {
     "data": {
      "text/html": [
       "<div>\n",
       "<style scoped>\n",
       "    .dataframe tbody tr th:only-of-type {\n",
       "        vertical-align: middle;\n",
       "    }\n",
       "\n",
       "    .dataframe tbody tr th {\n",
       "        vertical-align: top;\n",
       "    }\n",
       "\n",
       "    .dataframe thead th {\n",
       "        text-align: right;\n",
       "    }\n",
       "</style>\n",
       "<table border=\"1\" class=\"dataframe\">\n",
       "  <thead>\n",
       "    <tr style=\"text-align: right;\">\n",
       "      <th></th>\n",
       "      <th>Name</th>\n",
       "      <th>level</th>\n",
       "      <th>salary</th>\n",
       "    </tr>\n",
       "  </thead>\n",
       "  <tbody>\n",
       "    <tr>\n",
       "      <th>0</th>\n",
       "      <td>A</td>\n",
       "      <td>1</td>\n",
       "      <td>4500</td>\n",
       "    </tr>\n",
       "    <tr>\n",
       "      <th>1</th>\n",
       "      <td>B</td>\n",
       "      <td>2</td>\n",
       "      <td>5000</td>\n",
       "    </tr>\n",
       "    <tr>\n",
       "      <th>2</th>\n",
       "      <td>C</td>\n",
       "      <td>3</td>\n",
       "      <td>6000</td>\n",
       "    </tr>\n",
       "    <tr>\n",
       "      <th>3</th>\n",
       "      <td>D</td>\n",
       "      <td>4</td>\n",
       "      <td>8000</td>\n",
       "    </tr>\n",
       "    <tr>\n",
       "      <th>4</th>\n",
       "      <td>E</td>\n",
       "      <td>5</td>\n",
       "      <td>11000</td>\n",
       "    </tr>\n",
       "    <tr>\n",
       "      <th>5</th>\n",
       "      <td>F</td>\n",
       "      <td>6</td>\n",
       "      <td>15000</td>\n",
       "    </tr>\n",
       "    <tr>\n",
       "      <th>6</th>\n",
       "      <td>G</td>\n",
       "      <td>7</td>\n",
       "      <td>20000</td>\n",
       "    </tr>\n",
       "    <tr>\n",
       "      <th>7</th>\n",
       "      <td>H</td>\n",
       "      <td>8</td>\n",
       "      <td>30000</td>\n",
       "    </tr>\n",
       "    <tr>\n",
       "      <th>8</th>\n",
       "      <td>I</td>\n",
       "      <td>9</td>\n",
       "      <td>50000</td>\n",
       "    </tr>\n",
       "    <tr>\n",
       "      <th>9</th>\n",
       "      <td>j</td>\n",
       "      <td>10</td>\n",
       "      <td>100000</td>\n",
       "    </tr>\n",
       "  </tbody>\n",
       "</table>\n",
       "</div>"
      ],
      "text/plain": [
       "  Name  level  salary\n",
       "0    A      1    4500\n",
       "1    B      2    5000\n",
       "2    C      3    6000\n",
       "3    D      4    8000\n",
       "4    E      5   11000\n",
       "5    F      6   15000\n",
       "6    G      7   20000\n",
       "7    H      8   30000\n",
       "8    I      9   50000\n",
       "9    j     10  100000"
      ]
     },
     "execution_count": 243,
     "metadata": {},
     "output_type": "execute_result"
    }
   ],
   "source": [
    "data=pd.read_excel(\"salary.xlsx\")\n",
    "data\n"
   ]
  },
  {
   "cell_type": "code",
   "execution_count": 253,
   "id": "cee651a3",
   "metadata": {},
   "outputs": [],
   "source": [
    "x= data['level'].values.reshape(-1,1)\n",
    "y= data['salary'].values.reshape(-1,1)"
   ]
  },
  {
   "cell_type": "code",
   "execution_count": 254,
   "id": "63eadb09",
   "metadata": {},
   "outputs": [
    {
     "data": {
      "text/plain": [
       "<function matplotlib.pyplot.show(close=None, block=None)>"
      ]
     },
     "execution_count": 254,
     "metadata": {},
     "output_type": "execute_result"
    },
    {
     "data": {
      "image/png": "[encoded data removed]",
      "text/plain": [
       "<Figure size 640x480 with 1 Axes>"
      ]
     },
     "metadata": {},
     "output_type": "display_data"
    }
   ],
   "source": [
    "plt.scatter(x,y)\n",
    "plt.xlabel('level')\n",
    "plt.ylabel('salary')\n",
    "plt.title('Fig1')\n",
    "plt.show"
   ]
  },
  {
   "cell_type": "code",
   "execution_count": 257,
   "id": "00666811",
   "metadata": {},
   "outputs": [],
   "source": [
    "LR= LinearRegression()\n",
    "LR.fit(x,y)\n",
    "LR.intercept_, LR.coef_\n",
    "y1_predict= LR.predict(x)"
   ]
  },
  {
   "cell_type": "code",
   "execution_count": 258,
   "id": "aacd6c46",
   "metadata": {},
   "outputs": [
    {
     "data": {
      "text/plain": [
       "<function matplotlib.pyplot.show(close=None, block=None)>"
      ]
     },
     "execution_count": 258,
     "metadata": {},
     "output_type": "execute_result"
    },
    {
     "data": {
      "image/png": "[encoded data removed]",
      "text/plain": [
       "<Figure size 640x480 with 1 Axes>"
      ]
     },
     "metadata": {},
     "output_type": "display_data"
    }
   ],
   "source": [
    "plt.scatter(x,y,c='r')\n",
    "plt.plot(x,y1_predict)\n",
    "plt.xlabel('x')\n",
    "plt.ylabel('y1_predict')\n",
    "plt.savefig('fig.png')\n",
    "plt.show"
   ]
  },
  {
   "cell_type": "code",
   "execution_count": 248,
   "id": "37e14f5a",
   "metadata": {},
   "outputs": [],
   "source": [
    "from sklearn.preprocessing import PolynomialFeatures"
   ]
  },
  {
   "cell_type": "code",
   "execution_count": 264,
   "id": "364e0c8f",
   "metadata": {},
   "outputs": [],
   "source": [
    "poly_reg=PolynomialFeatures(4)"
   ]
  },
  {
   "cell_type": "code",
   "execution_count": 265,
   "id": "052ac9df",
   "metadata": {},
   "outputs": [],
   "source": [
    "x_poly=poly_reg.fit_transform(x)"
   ]
  },
  {
   "cell_type": "code",
   "execution_count": 266,
   "id": "5e52f2df",
   "metadata": {},
   "outputs": [
    {
     "data": {
      "text/plain": [
       "PolynomialFeatures(degree=4)"
      ]
     },
     "execution_count": 266,
     "metadata": {},
     "output_type": "execute_result"
    }
   ],
   "source": [
    "poly_reg.fit(x_poly,y)"
   ]
  },
  {
   "cell_type": "raw",
   "id": "9d5184ef",
   "metadata": {},
   "source": [
    "line2=LinearRegression()\n",
    "line2.fit(x_poly,y)\n",
    "y_p_p=line2.predict(x_poly)"
   ]
  },
  {
   "cell_type": "code",
   "execution_count": 267,
   "id": "a0db6748",
   "metadata": {},
   "outputs": [],
   "source": [
    "line2=LinearRegression()\n",
    "line2.fit(x_poly,y)\n",
    "y_p_p=line2.predict(poly_reg.fit_transform(x)) "
   ]
  },
  {
   "cell_type": "code",
   "execution_count": 268,
   "id": "86c75e9b",
   "metadata": {
    "scrolled": true
   },
   "outputs": [
    {
     "data": {
      "text/plain": [
       "<function matplotlib.pyplot.show(close=None, block=None)>"
      ]
     },
     "execution_count": 268,
     "metadata": {},
     "output_type": "execute_result"
    },
    {
     "data": {
      "image/png": "[encoded data removed]",
      "text/plain": [
       "<Figure size 640x480 with 1 Axes>"
      ]
     },
     "metadata": {},
     "output_type": "display_data"
    }
   ],
   "source": [
    "plt.scatter(x,y,c='r')\n",
    "plt.plot(x,y_p_p)\n",
    "plt.xlabel('x')\n",
    "plt.ylabel('y1_predict')\n",
    "plt.savefig('fig.png')\n",
    "plt.show"
   ]
  },
  {
   "cell_type": "code",
   "execution_count": null,
   "id": "af391fc7",
   "metadata": {},
   "outputs": [],
   "source": []
  },
  {
   "cell_type": "code",
   "execution_count": null,
   "id": "5b329a09",
   "metadata": {},
   "outputs": [],
   "source": []
  },
  {
   "cell_type": "code",
   "execution_count": null,
   "id": "4194716a",
   "metadata": {},
   "outputs": [],
   "source": []
  }
 ],
 "metadata": {
  "kernelspec": {
   "display_name": "Python 3 (ipykernel)",
   "language": "python",
   "name": "python3"
  },
  "language_info": {
   "codemirror_mode": {
    "name": "ipython",
    "version": 3
   },
   "file_extension": ".py",
   "mimetype": "text/x-python",
   "name": "python",
   "nbconvert_exporter": "python",
   "pygments_lexer": "ipython3",
   "version": "3.9.13"
  }
 },
 "nbformat": 4,
 "nbformat_minor": 5
}
