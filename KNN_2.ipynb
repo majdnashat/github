{
 "cells": [
  {
   "cell_type": "code",
   "execution_count": 3,
   "id": "b8955d9c",
   "metadata": {},
   "outputs": [],
   "source": [
    " # Import necessary modules\n",
    "from sklearn.neighbors import KNeighborsClassifier\n",
    "from sklearn.model_selection import train_test_split\n",
    "from sklearn.datasets import load_iris\n",
    "import matplotlib.pyplot as plt"
   ]
  },
  {
   "cell_type": "code",
   "execution_count": 44,
   "id": "4beb5e19",
   "metadata": {},
   "outputs": [],
   "source": [
    "irisData = load_iris()\n"
   ]
  },
  {
   "cell_type": "code",
   "execution_count": 45,
   "id": "98907708",
   "metadata": {},
   "outputs": [],
   "source": [
    "# Create feature and target arrays\n",
    "X = irisData.data\n",
    "y = irisData.target"
   ]
  },
  {
   "cell_type": "code",
   "execution_count": 51,
   "id": "7dfd736f",
   "metadata": {},
   "outputs": [],
   "source": [
    "# Split into training and test set\n",
    "X_train, X_test, y_train, y_test = train_test_split(X, y, test_size = 0.3, random_state=123)"
   ]
  },
  {
   "cell_type": "markdown",
   "id": "8d603090",
   "metadata": {},
   "source": [
    "# Generating Model for K=5"
   ]
  },
  {
   "cell_type": "code",
   "execution_count": 52,
   "id": "27286c30",
   "metadata": {},
   "outputs": [
    {
     "name": "stderr",
     "output_type": "stream",
     "text": [
      "C:\\Users\\Wafaa\\anaconda3\\lib\\site-packages\\sklearn\\neighbors\\_classification.py:228: FutureWarning: Unlike other reduction functions (e.g. `skew`, `kurtosis`), the default behavior of `mode` typically preserves the axis it acts along. In SciPy 1.11.0, this behavior will change: the default value of `keepdims` will become False, the `axis` over which the statistic is taken will be eliminated, and the value None will no longer be accepted. Set `keepdims` to True or False to avoid this warning.\n",
      "  mode, _ = stats.mode(_y[neigh_ind, k], axis=1)\n"
     ]
    }
   ],
   "source": [
    "#Import knearest neighbors Classifier model\n",
    "from sklearn.neighbors import KNeighborsClassifier\n",
    "\n",
    "#Create KNN Classifier\n",
    "knn = KNeighborsClassifier(n_neighbors=5)\n",
    "\n",
    "#Train the model using the training sets\n",
    "knn.fit(X_train, y_train)\n",
    "\n",
    "#Predict the response for test dataset\n",
    "y_pred = knn.predict(X_test)"
   ]
  },
  {
   "cell_type": "markdown",
   "id": "d7387bfb",
   "metadata": {},
   "source": [
    "# Model Evaluation for k=5"
   ]
  },
  {
   "cell_type": "code",
   "execution_count": 53,
   "id": "25a4fbf5",
   "metadata": {},
   "outputs": [
    {
     "name": "stdout",
     "output_type": "stream",
     "text": [
      "Accuracy: 0.9777777777777777\n"
     ]
    }
   ],
   "source": [
    "#Import scikit-learn metrics module for accuracy calculation\n",
    "from sklearn import metrics\n",
    "# Model Accuracy, how often is the classifier correct?\n",
    "print(\"Accuracy:\",metrics.accuracy_score(y_test, y_pred))"
   ]
  },
  {
   "cell_type": "code",
   "execution_count": 54,
   "id": "0a9a2fec",
   "metadata": {},
   "outputs": [
    {
     "name": "stdout",
     "output_type": "stream",
     "text": [
      "[1]\n"
     ]
    },
    {
     "name": "stderr",
     "output_type": "stream",
     "text": [
      "C:\\Users\\Wafaa\\anaconda3\\lib\\site-packages\\sklearn\\neighbors\\_classification.py:228: FutureWarning: Unlike other reduction functions (e.g. `skew`, `kurtosis`), the default behavior of `mode` typically preserves the axis it acts along. In SciPy 1.11.0, this behavior will change: the default value of `keepdims` will become False, the `axis` over which the statistic is taken will be eliminated, and the value None will no longer be accepted. Set `keepdims` to True or False to avoid this warning.\n",
      "  mode, _ = stats.mode(_y[neigh_ind, k], axis=1)\n"
     ]
    }
   ],
   "source": [
    "new_x = 3\n",
    "new_y = 2\n",
    "new_x1 = 4\n",
    "new_y1 = 1\n",
    "new_point = [(new_x, new_y, new_x1, new_y1)]\n",
    "y_pred = knn.predict(new_point)\n",
    "print(y_pred)"
   ]
  },
  {
   "cell_type": "markdown",
   "id": "2174350e",
   "metadata": {},
   "source": [
    "# extra"
   ]
  },
  {
   "cell_type": "code",
   "execution_count": 58,
   "id": "cd0070b7",
   "metadata": {},
   "outputs": [],
   "source": [
    "from lazypredict.Supervised import LazyClassifier"
   ]
  },
  {
   "cell_type": "code",
   "execution_count": 59,
   "id": "91bf3478",
   "metadata": {},
   "outputs": [
    {
     "name": "stderr",
     "output_type": "stream",
     "text": [
      "100%|██████████| 29/29 [00:00<00:00, 37.15it/s]"
     ]
    },
    {
     "name": "stdout",
     "output_type": "stream",
     "text": [
      "                               Accuracy  Balanced Accuracy ROC AUC  F1 Score  \\\n",
      "Model                                                                          \n",
      "LinearDiscriminantAnalysis         0.98               0.98    None      0.98   \n",
      "QuadraticDiscriminantAnalysis      0.98               0.98    None      0.98   \n",
      "LogisticRegression                 0.98               0.98    None      0.98   \n",
      "ExtraTreeClassifier                0.98               0.97    None      0.98   \n",
      "PassiveAggressiveClassifier        0.98               0.97    None      0.98   \n",
      "AdaBoostClassifier                 0.96               0.96    None      0.96   \n",
      "SVC                                0.96               0.96    None      0.96   \n",
      "RidgeClassifierCV                  0.96               0.96    None      0.96   \n",
      "Perceptron                         0.96               0.96    None      0.96   \n",
      "LinearSVC                          0.96               0.96    None      0.96   \n",
      "CalibratedClassifierCV             0.96               0.96    None      0.96   \n",
      "GaussianNB                         0.96               0.96    None      0.96   \n",
      "DecisionTreeClassifier             0.96               0.96    None      0.96   \n",
      "BaggingClassifier                  0.93               0.94    None      0.93   \n",
      "XGBClassifier                      0.93               0.94    None      0.93   \n",
      "NuSVC                              0.93               0.94    None      0.93   \n",
      "ExtraTreesClassifier               0.93               0.94    None      0.93   \n",
      "RandomForestClassifier             0.93               0.94    None      0.93   \n",
      "RidgeClassifier                    0.93               0.94    None      0.93   \n",
      "LabelPropagation                   0.93               0.93    None      0.93   \n",
      "KNeighborsClassifier               0.93               0.93    None      0.93   \n",
      "LabelSpreading                     0.93               0.93    None      0.93   \n",
      "LGBMClassifier                     0.91               0.92    None      0.91   \n",
      "SGDClassifier                      0.89               0.90    None      0.89   \n",
      "NearestCentroid                    0.89               0.90    None      0.89   \n",
      "BernoulliNB                        0.84               0.79    None      0.83   \n",
      "DummyClassifier                    0.22               0.33    None      0.08   \n",
      "\n",
      "                               Time Taken  \n",
      "Model                                      \n",
      "LinearDiscriminantAnalysis           0.03  \n",
      "QuadraticDiscriminantAnalysis        0.01  \n",
      "LogisticRegression                   0.02  \n",
      "ExtraTreeClassifier                  0.02  \n",
      "PassiveAggressiveClassifier          0.01  \n",
      "AdaBoostClassifier                   0.08  \n",
      "SVC                                  0.03  \n",
      "RidgeClassifierCV                    0.02  \n",
      "Perceptron                           0.01  \n",
      "LinearSVC                            0.02  \n",
      "CalibratedClassifierCV               0.05  \n",
      "GaussianNB                           0.02  \n",
      "DecisionTreeClassifier               0.00  \n",
      "BaggingClassifier                    0.01  \n",
      "XGBClassifier                        0.08  \n",
      "NuSVC                                0.01  \n",
      "ExtraTreesClassifier                 0.08  \n",
      "RandomForestClassifier               0.11  \n",
      "RidgeClassifier                      0.03  \n",
      "LabelPropagation                     0.02  \n",
      "KNeighborsClassifier                 0.02  \n",
      "LabelSpreading                       0.01  \n",
      "LGBMClassifier                       0.06  \n",
      "SGDClassifier                        0.01  \n",
      "NearestCentroid                      0.01  \n",
      "BernoulliNB                          0.02  \n",
      "DummyClassifier                      0.02  \n"
     ]
    },
    {
     "name": "stderr",
     "output_type": "stream",
     "text": [
      "\n"
     ]
    }
   ],
   "source": [
    "clf = LazyClassifier(verbose=0,ignore_warnings=True, custom_metric=None)\n",
    "models,predictions = clf.fit(X_train, X_test, y_train, y_test)\n",
    "\n",
    "print(models)"
   ]
  },
  {
   "cell_type": "code",
   "execution_count": null,
   "id": "5b5aca57",
   "metadata": {},
   "outputs": [],
   "source": []
  }
 ],
 "metadata": {
  "kernelspec": {
   "display_name": "Python 3 (ipykernel)",
   "language": "python",
   "name": "python3"
  },
  "language_info": {
   "codemirror_mode": {
    "name": "ipython",
    "version": 3
   },
   "file_extension": ".py",
   "mimetype": "text/x-python",
   "name": "python",
   "nbconvert_exporter": "python",
   "pygments_lexer": "ipython3",
   "version": "3.9.13"
  }
 },
 "nbformat": 4,
 "nbformat_minor": 5
}
